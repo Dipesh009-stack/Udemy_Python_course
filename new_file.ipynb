{
 "cells": [
  {
   "cell_type": "code",
   "execution_count": 2,
   "id": "bdf1390c",
   "metadata": {},
   "outputs": [
    {
     "name": "stdout",
     "output_type": "stream",
     "text": [
      "enter the radius of circle2\n"
     ]
    }
   ],
   "source": [
    "import math\n",
    "r= int(input(\"enter the radius of circle\"))\n"
   ]
  },
  {
   "cell_type": "code",
   "execution_count": 8,
   "id": "dac58c70",
   "metadata": {},
   "outputs": [
    {
     "name": "stdout",
     "output_type": "stream",
     "text": [
      "DIPESH WOSTI\n"
     ]
    }
   ],
   "source": [
    "first_name = \"dipesh\"\n",
    "last_name= \"wosti\"\n",
    "full_name = first_name+\" \"+ last_name\n",
    "print(full_name.upper())"
   ]
  },
  {
   "cell_type": "code",
   "execution_count": 6,
   "id": "9d81ae45",
   "metadata": {},
   "outputs": [
    {
     "data": {
      "text/plain": [
       "'DIPESH WOSTI'"
      ]
     },
     "execution_count": 6,
     "metadata": {},
     "output_type": "execute_result"
    }
   ],
   "source": [
    "full_name.upper()"
   ]
  },
  {
   "cell_type": "code",
   "execution_count": 9,
   "id": "914d398b",
   "metadata": {},
   "outputs": [
    {
     "data": {
      "text/plain": [
       "['dipesh', 'wosti']"
      ]
     },
     "execution_count": 9,
     "metadata": {},
     "output_type": "execute_result"
    }
   ],
   "source": [
    "full_name.split()"
   ]
  },
  {
   "cell_type": "code",
   "execution_count": 10,
   "id": "9e0e3d7e",
   "metadata": {},
   "outputs": [
    {
     "name": "stdout",
     "output_type": "stream",
     "text": [
      "dipesh 24 True\n"
     ]
    }
   ],
   "source": [
    "name = \"dipesh\"\n",
    "age = 24\n",
    "full_time_employee = True\n",
    "print(name,age,full_time_employee)"
   ]
  },
  {
   "cell_type": "code",
   "execution_count": 11,
   "id": "40cfb574",
   "metadata": {},
   "outputs": [
    {
     "data": {
      "text/plain": [
       "10"
      ]
     },
     "execution_count": 11,
     "metadata": {},
     "output_type": "execute_result"
    }
   ],
   "source": [
    "x=20\n",
    "y=10\n",
    "x-y"
   ]
  },
  {
   "cell_type": "code",
   "execution_count": 13,
   "id": "30cb0413",
   "metadata": {},
   "outputs": [
    {
     "name": "stdout",
     "output_type": "stream",
     "text": [
      "What is your age?my age is 22\n",
      "Here are the words that you entered:  ['my', 'age', 'is', '22']\n"
     ]
    }
   ],
   "source": [
    "day = input(\"What is your age?\")\n",
    "print(\"Here are the words that you entered: \",day.split())"
   ]
  },
  {
   "cell_type": "code",
   "execution_count": 15,
   "id": "ddfb2ab4",
   "metadata": {},
   "outputs": [
    {
     "name": "stdout",
     "output_type": "stream",
     "text": [
      "Enter your name in lower case: dads\n",
      "Your name in uppercase:  DADS\n"
     ]
    }
   ],
   "source": [
    "name = input(\"Enter your name in lower case: \")\n",
    "print(\"Your name in uppercase: \", name.upper())"
   ]
  },
  {
   "cell_type": "code",
   "execution_count": 19,
   "id": "2c4d67c8",
   "metadata": {},
   "outputs": [
    {
     "name": "stdout",
     "output_type": "stream",
     "text": [
      "Enter your email address: wosti.dipesh@gmail.com\n",
      "Hello  wosti.dipesh\n"
     ]
    }
   ],
   "source": [
    "email = input(\"Enter your email address: \")\n",
    "name = email.split('@')\n",
    "print(\"Hello \",name[0])"
   ]
  },
  {
   "cell_type": "code",
   "execution_count": 1,
   "id": "454af51e",
   "metadata": {},
   "outputs": [],
   "source": [
    "# list comprehensive\n"
   ]
  },
  {
   "cell_type": "code",
   "execution_count": 2,
   "id": "521d7402",
   "metadata": {},
   "outputs": [
    {
     "name": "stdout",
     "output_type": "stream",
     "text": [
      "enter list of temperature seperated by space:\n",
      "5\n",
      "[39.0]\n"
     ]
    }
   ],
   "source": [
    "print(\"enter list of temperature seperated by space:\")\n",
    "temp_C = [int(x) for x in input().split()]\n",
    "\n",
    "temp_F = [  ((i*1.8)+30)  for i in temp_C ]\n",
    "print(temp_F)\n",
    "    \n",
    "    "
   ]
  },
  {
   "cell_type": "code",
   "execution_count": 4,
   "id": "cda293a1",
   "metadata": {},
   "outputs": [
    {
     "data": {
      "text/plain": [
       "'!\"#$%&\\'()*+,-./:;<=>?@[\\\\]^_`{|}~'"
      ]
     },
     "execution_count": 4,
     "metadata": {},
     "output_type": "execute_result"
    }
   ],
   "source": [
    "import string\n",
    "import random\n",
    "\n",
    "string.digits\n",
    "string.ascii_letters\n",
    "string.punctuation"
   ]
  },
  {
   "cell_type": "code",
   "execution_count": 5,
   "id": "1548d3bf",
   "metadata": {},
   "outputs": [
    {
     "name": "stdout",
     "output_type": "stream",
     "text": [
      "Enter how are you feeling today here?dipesh is feeling good today\n",
      "dipesh\n",
      "feeling\n",
      "good\n",
      "is\n",
      "today\n"
     ]
    }
   ],
   "source": [
    "qn = input(\"Enter how are you feeling today here?\")\n",
    "words = qn.split()\n",
    "words.sort()\n",
    "for i in words:\n",
    "    print(i)"
   ]
  },
  {
   "cell_type": "code",
   "execution_count": null,
   "id": "e41a2dbb",
   "metadata": {},
   "outputs": [],
   "source": []
  }
 ],
 "metadata": {
  "kernelspec": {
   "display_name": "Python 3 (ipykernel)",
   "language": "python",
   "name": "python3"
  },
  "language_info": {
   "codemirror_mode": {
    "name": "ipython",
    "version": 3
   },
   "file_extension": ".py",
   "mimetype": "text/x-python",
   "name": "python",
   "nbconvert_exporter": "python",
   "pygments_lexer": "ipython3",
   "version": "3.9.12"
  }
 },
 "nbformat": 4,
 "nbformat_minor": 5
}
