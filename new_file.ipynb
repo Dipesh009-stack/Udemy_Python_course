{
 "cells": [
  {
   "cell_type": "code",
   "execution_count": 2,
   "id": "bdf1390c",
   "metadata": {},
   "outputs": [
    {
     "name": "stdout",
     "output_type": "stream",
     "text": [
      "enter the radius of circle2\n"
     ]
    }
   ],
   "source": [
    "import math\n",
    "r= int(input(\"enter the radius of circle\"))\n"
   ]
  },
  {
   "cell_type": "code",
   "execution_count": 8,
   "id": "dac58c70",
   "metadata": {},
   "outputs": [
    {
     "name": "stdout",
     "output_type": "stream",
     "text": [
      "DIPESH WOSTI\n"
     ]
    }
   ],
   "source": [
    "first_name = \"dipesh\"\n",
    "last_name= \"wosti\"\n",
    "full_name = first_name+\" \"+ last_name\n",
    "print(full_name.upper())"
   ]
  },
  {
   "cell_type": "code",
   "execution_count": 6,
   "id": "9d81ae45",
   "metadata": {},
   "outputs": [
    {
     "data": {
      "text/plain": [
       "'DIPESH WOSTI'"
      ]
     },
     "execution_count": 6,
     "metadata": {},
     "output_type": "execute_result"
    }
   ],
   "source": [
    "full_name.upper()"
   ]
  },
  {
   "cell_type": "code",
   "execution_count": 9,
   "id": "914d398b",
   "metadata": {},
   "outputs": [
    {
     "data": {
      "text/plain": [
       "['dipesh', 'wosti']"
      ]
     },
     "execution_count": 9,
     "metadata": {},
     "output_type": "execute_result"
    }
   ],
   "source": [
    "full_name.split()"
   ]
  },
  {
   "cell_type": "code",
   "execution_count": 10,
   "id": "9e0e3d7e",
   "metadata": {},
   "outputs": [
    {
     "name": "stdout",
     "output_type": "stream",
     "text": [
      "dipesh 24 True\n"
     ]
    }
   ],
   "source": [
    "name = \"dipesh\"\n",
    "age = 24\n",
    "full_time_employee = True\n",
    "print(name,age,full_time_employee)"
   ]
  },
  {
   "cell_type": "code",
   "execution_count": 11,
   "id": "40cfb574",
   "metadata": {},
   "outputs": [
    {
     "data": {
      "text/plain": [
       "10"
      ]
     },
     "execution_count": 11,
     "metadata": {},
     "output_type": "execute_result"
    }
   ],
   "source": [
    "x=20\n",
    "y=10\n",
    "x-y"
   ]
  },
  {
   "cell_type": "code",
   "execution_count": 13,
   "id": "30cb0413",
   "metadata": {},
   "outputs": [
    {
     "name": "stdout",
     "output_type": "stream",
     "text": [
      "What is your age?my age is 22\n",
      "Here are the words that you entered:  ['my', 'age', 'is', '22']\n"
     ]
    }
   ],
   "source": [
    "day = input(\"What is your age?\")\n",
    "print(\"Here are the words that you entered: \",day.split())"
   ]
  },
  {
   "cell_type": "code",
   "execution_count": 15,
   "id": "ddfb2ab4",
   "metadata": {},
   "outputs": [
    {
     "name": "stdout",
     "output_type": "stream",
     "text": [
      "Enter your name in lower case: dads\n",
      "Your name in uppercase:  DADS\n"
     ]
    }
   ],
   "source": [
    "name = input(\"Enter your name in lower case: \")\n",
    "print(\"Your name in uppercase: \", name.upper())"
   ]
  },
  {
   "cell_type": "code",
   "execution_count": 19,
   "id": "2c4d67c8",
   "metadata": {},
   "outputs": [
    {
     "name": "stdout",
     "output_type": "stream",
     "text": [
      "Enter your email address: wosti.dipesh@gmail.com\n",
      "Hello  wosti.dipesh\n"
     ]
    }
   ],
   "source": [
    "email = input(\"Enter your email address: \")\n",
    "name = email.split('@')\n",
    "print(\"Hello \",name[0])"
   ]
  },
  {
   "cell_type": "code",
   "execution_count": 1,
   "id": "454af51e",
   "metadata": {},
   "outputs": [],
   "source": [
    "# list comprehensive\n"
   ]
  },
  {
   "cell_type": "code",
   "execution_count": 2,
   "id": "521d7402",
   "metadata": {},
   "outputs": [
    {
     "name": "stdout",
     "output_type": "stream",
     "text": [
      "enter list of temperature seperated by space:\n",
      "5\n",
      "[39.0]\n"
     ]
    }
   ],
   "source": [
    "print(\"enter list of temperature seperated by space:\")\n",
    "temp_C = [int(x) for x in input().split()]\n",
    "\n",
    "temp_F = [  ((i*1.8)+30)  for i in temp_C ]\n",
    "print(temp_F)\n",
    "    \n",
    "    "
   ]
  },
  {
   "cell_type": "code",
   "execution_count": 4,
   "id": "cda293a1",
   "metadata": {},
   "outputs": [
    {
     "data": {
      "text/plain": [
       "'!\"#$%&\\'()*+,-./:;<=>?@[\\\\]^_`{|}~'"
      ]
     },
     "execution_count": 4,
     "metadata": {},
     "output_type": "execute_result"
    }
   ],
   "source": [
    "import string\n",
    "import random\n",
    "\n",
    "string.digits\n",
    "string.ascii_letters\n",
    "string.punctuation"
   ]
  },
  {
   "cell_type": "code",
   "execution_count": 5,
   "id": "1548d3bf",
   "metadata": {},
   "outputs": [
    {
     "name": "stdout",
     "output_type": "stream",
     "text": [
      "Enter how are you feeling today here?dipesh is feeling good today\n",
      "dipesh\n",
      "feeling\n",
      "good\n",
      "is\n",
      "today\n"
     ]
    }
   ],
   "source": [
    "qn = input(\"Enter how are you feeling today here?\")\n",
    "words = qn.split()\n",
    "words.sort()\n",
    "for i in words:\n",
    "    print(i)"
   ]
  },
  {
   "cell_type": "code",
   "execution_count": 9,
   "id": "e41a2dbb",
   "metadata": {},
   "outputs": [
    {
     "name": "stdout",
     "output_type": "stream",
     "text": [
      "Enter a number for square..5\n"
     ]
    },
    {
     "data": {
      "text/plain": [
       "50"
      ]
     },
     "execution_count": 9,
     "metadata": {},
     "output_type": "execute_result"
    }
   ],
   "source": [
    "def my_function(a):\n",
    "    return a*10\n",
    "number = int(input(\"Enter a number for square..\"))\n",
    "my_function(number)"
   ]
  },
  {
   "cell_type": "code",
   "execution_count": 10,
   "id": "166c8b6a",
   "metadata": {},
   "outputs": [
    {
     "data": {
      "text/plain": [
       "100"
      ]
     },
     "execution_count": 10,
     "metadata": {},
     "output_type": "execute_result"
    }
   ],
   "source": [
    "def summation(x=50,y=50):\n",
    "    return x+y\n",
    "summation()"
   ]
  },
  {
   "cell_type": "code",
   "execution_count": 12,
   "id": "2dc2e3dd",
   "metadata": {},
   "outputs": [
    {
     "name": "stdout",
     "output_type": "stream",
     "text": [
      "hello dipesh greeting:hello \n"
     ]
    }
   ],
   "source": [
    "def greeting_function(name,greeting):\n",
    "    print(\"hello {} greeting:{} \".format(name,greeting))\n",
    "greeting_function('dipesh','hello')"
   ]
  },
  {
   "cell_type": "code",
   "execution_count": 13,
   "id": "5b8d8bc7",
   "metadata": {},
   "outputs": [],
   "source": [
    "li = [4,5,1,2,8,5]"
   ]
  },
  {
   "cell_type": "code",
   "execution_count": 14,
   "id": "f0279485",
   "metadata": {},
   "outputs": [],
   "source": [
    "y = list(range(1,7))"
   ]
  },
  {
   "cell_type": "code",
   "execution_count": 15,
   "id": "9d9e6f3d",
   "metadata": {},
   "outputs": [
    {
     "data": {
      "text/plain": [
       "[1, 2, 3, 4, 5, 6]"
      ]
     },
     "execution_count": 15,
     "metadata": {},
     "output_type": "execute_result"
    }
   ],
   "source": [
    "y"
   ]
  },
  {
   "cell_type": "code",
   "execution_count": 16,
   "id": "564745de",
   "metadata": {},
   "outputs": [],
   "source": [
    "z = list(range(2,2))"
   ]
  },
  {
   "cell_type": "code",
   "execution_count": 17,
   "id": "735e9953",
   "metadata": {},
   "outputs": [
    {
     "data": {
      "text/plain": [
       "[]"
      ]
     },
     "execution_count": 17,
     "metadata": {},
     "output_type": "execute_result"
    }
   ],
   "source": [
    "z"
   ]
  },
  {
   "cell_type": "code",
   "execution_count": 22,
   "id": "8e3acce8",
   "metadata": {},
   "outputs": [
    {
     "data": {
      "text/plain": [
       "6"
      ]
     },
     "execution_count": 22,
     "metadata": {},
     "output_type": "execute_result"
    }
   ],
   "source": [
    "max(y)"
   ]
  },
  {
   "cell_type": "code",
   "execution_count": 23,
   "id": "2ecb71ac",
   "metadata": {},
   "outputs": [],
   "source": [
    "a = tuple(y)"
   ]
  },
  {
   "cell_type": "code",
   "execution_count": 24,
   "id": "0fa598c6",
   "metadata": {},
   "outputs": [
    {
     "data": {
      "text/plain": [
       "[]"
      ]
     },
     "execution_count": 24,
     "metadata": {},
     "output_type": "execute_result"
    }
   ],
   "source": [
    "z"
   ]
  },
  {
   "cell_type": "code",
   "execution_count": 25,
   "id": "fcd37888",
   "metadata": {},
   "outputs": [
    {
     "data": {
      "text/plain": [
       "(1, 2, 3, 4, 5, 6)"
      ]
     },
     "execution_count": 25,
     "metadata": {},
     "output_type": "execute_result"
    }
   ],
   "source": [
    "a"
   ]
  },
  {
   "cell_type": "code",
   "execution_count": 27,
   "id": "61006fa6",
   "metadata": {},
   "outputs": [
    {
     "data": {
      "text/plain": [
       "tuple"
      ]
     },
     "execution_count": 27,
     "metadata": {},
     "output_type": "execute_result"
    }
   ],
   "source": [
    "type(a)"
   ]
  },
  {
   "cell_type": "code",
   "execution_count": 28,
   "id": "7db0d1ee",
   "metadata": {},
   "outputs": [
    {
     "name": "stdout",
     "output_type": "stream",
     "text": [
      "3\n",
      "7\n",
      "11\n"
     ]
    }
   ],
   "source": [
    "my_list1 = [1,3,5]\n",
    "my_list2 = [2,4,6]\n",
    "for i,j in zip(my_list1,my_list2):\n",
    "    print(i+j)\n",
    "    "
   ]
  },
  {
   "cell_type": "code",
   "execution_count": 33,
   "id": "acd3d24f",
   "metadata": {},
   "outputs": [
    {
     "name": "stdout",
     "output_type": "stream",
     "text": [
      "Hey Ram I wish you Best\n",
      "Hey Shyam I wish you Love\n",
      "Hey Hari I wish you Good\n",
      "Hey Gita I wish you Excellent\n",
      "Hey Saroj I wish you awesome\n"
     ]
    }
   ],
   "source": [
    "def greeting_function(name,greetings):\n",
    "    print(\"Hey {} I wish you {}\".format(name,greetings))\n",
    "\n",
    "friend_list = ['Ram','Shyam','Hari','Gita','Saroj']\n",
    "greeting_list = ['Best','Love','Good','Excellent','awesome']\n",
    "\n",
    "for i,j in zip(friend_list,greeting_list):\n",
    "    greeting_function(i,j)"
   ]
  },
  {
   "cell_type": "markdown",
   "id": "516a2404",
   "metadata": {},
   "source": [
    "# lambda expression"
   ]
  },
  {
   "cell_type": "code",
   "execution_count": 35,
   "id": "c89cd1c2",
   "metadata": {},
   "outputs": [],
   "source": [
    "y = lambda x:x**2"
   ]
  },
  {
   "cell_type": "code",
   "execution_count": 37,
   "id": "842a1443",
   "metadata": {},
   "outputs": [
    {
     "data": {
      "text/plain": [
       "9"
      ]
     },
     "execution_count": 37,
     "metadata": {},
     "output_type": "execute_result"
    }
   ],
   "source": [
    "y(3)"
   ]
  },
  {
   "cell_type": "code",
   "execution_count": 38,
   "id": "663c7eac",
   "metadata": {},
   "outputs": [],
   "source": [
    "c = lambda x,y,z:x+y+z"
   ]
  },
  {
   "cell_type": "code",
   "execution_count": 39,
   "id": "f7e9fbfb",
   "metadata": {},
   "outputs": [
    {
     "data": {
      "text/plain": [
       "18"
      ]
     },
     "execution_count": 39,
     "metadata": {},
     "output_type": "execute_result"
    }
   ],
   "source": [
    "c(5,6,7)"
   ]
  },
  {
   "cell_type": "code",
   "execution_count": 50,
   "id": "f7324c5a",
   "metadata": {},
   "outputs": [],
   "source": [
    "a= list(range(1,7))\n",
    "b = list(range(5,10))\n"
   ]
  },
  {
   "cell_type": "code",
   "execution_count": 43,
   "id": "6b4bd10f",
   "metadata": {},
   "outputs": [],
   "source": [
    "def summation(s1,s2):\n",
    "    return s1+s2\n",
    "nuw_list = list(map(summation,a,b))"
   ]
  },
  {
   "cell_type": "code",
   "execution_count": 52,
   "id": "eb2b47b4",
   "metadata": {},
   "outputs": [
    {
     "name": "stdout",
     "output_type": "stream",
     "text": [
      "[1, 2, 3, 4, 5, 6]\n",
      "[5, 6, 7, 8, 9]\n",
      "[6, 8, 10, 12, 14, 16]\n"
     ]
    }
   ],
   "source": [
    "print(a)\n",
    "print(b)\n",
    "print(nuw_list)"
   ]
  },
  {
   "cell_type": "code",
   "execution_count": 53,
   "id": "42029b72",
   "metadata": {},
   "outputs": [],
   "source": [
    "#map takes function and a list and apply function on our list\n"
   ]
  },
  {
   "cell_type": "code",
   "execution_count": 54,
   "id": "fda75cb6",
   "metadata": {},
   "outputs": [],
   "source": [
    "def multiply(a,b):\n",
    "    return a*b\n",
    "a = [1,2,3,4,5]\n",
    "b = [6,7,8,9,10]\n",
    "\n",
    "mul_list = list(map(multiply,a,b))"
   ]
  },
  {
   "cell_type": "code",
   "execution_count": 55,
   "id": "c06433bc",
   "metadata": {},
   "outputs": [
    {
     "name": "stdout",
     "output_type": "stream",
     "text": [
      "[6, 14, 24, 36, 50]\n"
     ]
    }
   ],
   "source": [
    "print(mul_list)"
   ]
  },
  {
   "cell_type": "code",
   "execution_count": 58,
   "id": "91b8c4cb",
   "metadata": {},
   "outputs": [],
   "source": [
    "new_list = list(map(lambda x,y:x+y, a,b))"
   ]
  },
  {
   "cell_type": "code",
   "execution_count": 59,
   "id": "a2351150",
   "metadata": {},
   "outputs": [
    {
     "data": {
      "text/plain": [
       "[7, 9, 11, 13, 15]"
      ]
     },
     "execution_count": 59,
     "metadata": {},
     "output_type": "execute_result"
    }
   ],
   "source": [
    "new_list"
   ]
  },
  {
   "cell_type": "code",
   "execution_count": 61,
   "id": "78bf5e4b",
   "metadata": {},
   "outputs": [
    {
     "name": "stdout",
     "output_type": "stream",
     "text": [
      "[6, 14, 24, 36, 50]\n"
     ]
    }
   ],
   "source": [
    "a = [1,2,3,4,5]\n",
    "b = [6,7,8,9,10]\n",
    "\n",
    "new_result = list(map(lambda x,y:x*y , a,b))\n",
    "print(new_result)"
   ]
  },
  {
   "cell_type": "code",
   "execution_count": 62,
   "id": "bbf16c57",
   "metadata": {},
   "outputs": [
    {
     "name": "stdout",
     "output_type": "stream",
     "text": [
      "[2, 4]\n"
     ]
    }
   ],
   "source": [
    "a = [1,2,3,4,5]\n",
    "\n",
    "output_list  =  list(filter(lambda x:(x%2==0) , a))\n",
    "print(output_list)"
   ]
  },
  {
   "cell_type": "code",
   "execution_count": 65,
   "id": "68d290a0",
   "metadata": {},
   "outputs": [
    {
     "name": "stdout",
     "output_type": "stream",
     "text": [
      "[22, 34, 24, 54]\n"
     ]
    }
   ],
   "source": [
    "mylist_age = [11,22,34,12,24,14,54,10,12]\n",
    "out = list(filter(lambda x:(x>=21), mylist_age))\n",
    "print(out)"
   ]
  },
  {
   "cell_type": "code",
   "execution_count": null,
   "id": "cc2a5efd",
   "metadata": {},
   "outputs": [],
   "source": []
  }
 ],
 "metadata": {
  "kernelspec": {
   "display_name": "Python 3 (ipykernel)",
   "language": "python",
   "name": "python3"
  },
  "language_info": {
   "codemirror_mode": {
    "name": "ipython",
    "version": 3
   },
   "file_extension": ".py",
   "mimetype": "text/x-python",
   "name": "python",
   "nbconvert_exporter": "python",
   "pygments_lexer": "ipython3",
   "version": "3.9.12"
  }
 },
 "nbformat": 4,
 "nbformat_minor": 5
}
