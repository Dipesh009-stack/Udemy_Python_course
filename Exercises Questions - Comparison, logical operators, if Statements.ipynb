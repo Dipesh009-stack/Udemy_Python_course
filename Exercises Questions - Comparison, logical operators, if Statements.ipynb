{
 "cells": [
  {
   "cell_type": "markdown",
   "metadata": {},
   "source": [
    "# <font color='red'> *ABSOLUTE BEGINNER LEVEL* </font> \n",
    "## <font color='red'> COMPARISON AND LOGICAL OPERATORS AND IF STATEMENTS  </font> "
   ]
  },
  {
   "cell_type": "markdown",
   "metadata": {},
   "source": [
    "#  <font color='blue'>1. WHAT WILL THIS CODE GENERATE? PLEASE DO NOT RUN THE CODE! </font> "
   ]
  },
  {
   "cell_type": "code",
   "execution_count": 1,
   "metadata": {},
   "outputs": [
    {
     "name": "stdout",
     "output_type": "stream",
     "text": [
      "False\n",
      "True\n",
      "False\n",
      "True\n"
     ]
    }
   ],
   "source": [
    "print('Python' == 'PYTHON')\n",
    "print('PYTHON' == 'PYTHON')\n",
    "print('PYTHON' != 'PYTHON')\n",
    "print(15!=10)"
   ]
  },
  {
   "cell_type": "markdown",
   "metadata": {},
   "source": [
    "#  <font color='blue'>2. WHAT WILL THIS CODE GENERATE? PLEASE DO NOT RUN THE CODE! </font> \n"
   ]
  },
  {
   "cell_type": "code",
   "execution_count": 6,
   "metadata": {},
   "outputs": [
    {
     "name": "stdout",
     "output_type": "stream",
     "text": [
      "True\n"
     ]
    }
   ],
   "source": [
    "print( 'Hello'!='HELLO' and (6 > 2) and (5 == 5)) "
   ]
  },
  {
   "cell_type": "code",
   "execution_count": 8,
   "metadata": {},
   "outputs": [
    {
     "name": "stdout",
     "output_type": "stream",
     "text": [
      "True\n"
     ]
    }
   ],
   "source": [
    "print( 'Hello'!='HELLO' or (6 > 2) or (5 == 5)) "
   ]
  },
  {
   "cell_type": "markdown",
   "metadata": {},
   "source": [
    "#  <font color='blue'> 3. WHAT WILL THIS CODE GENERATE? </font> "
   ]
  },
  {
   "cell_type": "code",
   "execution_count": null,
   "metadata": {},
   "outputs": [],
   "source": [
    "x = 20\n",
    "y = 30\n",
    "\n",
    "print(x == y) \n",
    "print(x != y) \n",
    "print(x > y)\n",
    "print(x < y) \n",
    "print(x == y or x!=y) \n",
    "print(x == y and x!=y) \n"
   ]
  },
  {
   "cell_type": "markdown",
   "metadata": {},
   "source": [
    "# <font color='blue'> 4. GIVEN THE DICTIONARY BELOW, WRITE TO CODE TO SELECT DICTIONARY ELEMENTS THAT ARE GREATER THAN OR EQUAL 30 AND PLACE THE VALUES IN A LIST </font> "
   ]
  },
  {
   "cell_type": "markdown",
   "metadata": {},
   "source": [
    "Please note that we did not cover loops yet so the answer below is pretty basic!"
   ]
  },
  {
   "cell_type": "code",
   "execution_count": 23,
   "metadata": {},
   "outputs": [
    {
     "name": "stdout",
     "output_type": "stream",
     "text": [
      "[dict_values([20, 30, 50]), dict_values([20, 30, 50])]\n"
     ]
    }
   ],
   "source": [
    "input_dictionary = {\"Key 1\": 20, \"Key 2\": 30, \"Key 3\": 50}\n",
    "lisst = []\n",
    "\n",
    "for values in input_dictionary.values():\n",
    "    if values >= 30:\n",
    "        lisst.append(input_dictionary.values())\n",
    "\n",
    "print(lisst)"
   ]
  },
  {
   "cell_type": "markdown",
   "metadata": {},
   "source": [
    "# <font color='blue'> 5. WRITE A CODE THAT TAKES A NUMBER FROM A USER AND COMPARE IT TO A RANDOMLY GENERATRED NUMBER AND STATES WHICH ONE IS LARGER/SMALLER </font> "
   ]
  },
  {
   "cell_type": "code",
   "execution_count": 28,
   "metadata": {},
   "outputs": [
    {
     "name": "stdout",
     "output_type": "stream",
     "text": [
      "Enter a number between 1 and 100: 56\n",
      "Your number is smaller than randomly generated number\n"
     ]
    }
   ],
   "source": [
    "user =  input(\"Enter a number between 1 and 100: \")\n",
    "import random\n",
    "\n",
    "comparision = random.randint(1,100)\n",
    "if user > str(comparision) :\n",
    "    print(\" Your number is larger han randomly generated number\")\n",
    "else:\n",
    "    print(\"Your number is smaller than randomly generated number\")"
   ]
  },
  {
   "cell_type": "code",
   "execution_count": null,
   "metadata": {},
   "outputs": [],
   "source": []
  },
  {
   "cell_type": "code",
   "execution_count": null,
   "metadata": {},
   "outputs": [],
   "source": []
  },
  {
   "cell_type": "markdown",
   "metadata": {},
   "source": [
    "# <font color='blue'> 6. WRITE A CODE THAT TAKES A NUMBER AND INDICATES IF IT IS POSITIVE, NEGATIVE OR ZERO </font> "
   ]
  },
  {
   "cell_type": "code",
   "execution_count": 31,
   "metadata": {},
   "outputs": [
    {
     "name": "stdout",
     "output_type": "stream",
     "text": [
      "Enter a number: -9\n",
      "negative\n"
     ]
    }
   ],
   "source": [
    "num = int(input(\"Enter a number: \"))\n",
    "if( num > 0):\n",
    "    print('positive')\n",
    "elif (num <0):\n",
    "    print('negative')\n",
    "else:\n",
    "    print('0')\n",
    "    "
   ]
  },
  {
   "cell_type": "code",
   "execution_count": null,
   "metadata": {},
   "outputs": [],
   "source": []
  },
  {
   "cell_type": "code",
   "execution_count": null,
   "metadata": {},
   "outputs": [],
   "source": []
  },
  {
   "cell_type": "markdown",
   "metadata": {},
   "source": [
    "# <font color='blue'> 7. WRITE A SCRIPT THAT WILL PROMPT A USER FOR AN INPUT AND CHECKS IF THE NUMBER IS DIVISIBLE BY 5 BUT  NOT A MULTIPLE OF 7 "
   ]
  },
  {
   "cell_type": "code",
   "execution_count": null,
   "metadata": {},
   "outputs": [],
   "source": []
  },
  {
   "cell_type": "code",
   "execution_count": null,
   "metadata": {},
   "outputs": [],
   "source": []
  },
  {
   "cell_type": "code",
   "execution_count": null,
   "metadata": {},
   "outputs": [],
   "source": []
  },
  {
   "cell_type": "markdown",
   "metadata": {},
   "source": [
    "# <font color='blue'> 8. WRITE A CODE THAT TAKES AN INPUT FROM THE USER AND INDICATES ITS NUMBER OF DIGITS"
   ]
  },
  {
   "cell_type": "code",
   "execution_count": null,
   "metadata": {},
   "outputs": [],
   "source": []
  },
  {
   "cell_type": "code",
   "execution_count": null,
   "metadata": {},
   "outputs": [],
   "source": []
  },
  {
   "cell_type": "code",
   "execution_count": null,
   "metadata": {},
   "outputs": [],
   "source": []
  },
  {
   "cell_type": "markdown",
   "metadata": {},
   "source": [
    "# <font color='blue'> 9. WRITE A CODE THAT TAKES AN INPUT FROM THE USER AND INDICATES IF IT IS EVEN OR ODD"
   ]
  },
  {
   "cell_type": "code",
   "execution_count": null,
   "metadata": {},
   "outputs": [],
   "source": []
  },
  {
   "cell_type": "code",
   "execution_count": null,
   "metadata": {},
   "outputs": [],
   "source": []
  },
  {
   "cell_type": "markdown",
   "metadata": {},
   "source": [
    "# <font color='blue'> 10. WRITE A CODE THAT TAKES THE VALUES OF THE DICTIONARY BELOW AND OUTPUT VALUES MORE THAN 25 IN AN OUTPUT LIST"
   ]
  },
  {
   "cell_type": "code",
   "execution_count": 49,
   "metadata": {},
   "outputs": [],
   "source": [
    "my_dict = {\"sally\": 23, \"dina\": 30, \"holy\": 50}\n"
   ]
  },
  {
   "cell_type": "markdown",
   "metadata": {},
   "source": [
    "# NOW YOU SHOULD BE FAMILIAR WITH LOGICAL OPERATORS, COMPARISON OPERATORS, AND IF STATMENTS, GREAT JOB!"
   ]
  }
 ],
 "metadata": {
  "kernelspec": {
   "display_name": "Python 3 (ipykernel)",
   "language": "python",
   "name": "python3"
  },
  "language_info": {
   "codemirror_mode": {
    "name": "ipython",
    "version": 3
   },
   "file_extension": ".py",
   "mimetype": "text/x-python",
   "name": "python",
   "nbconvert_exporter": "python",
   "pygments_lexer": "ipython3",
   "version": "3.9.12"
  }
 },
 "nbformat": 4,
 "nbformat_minor": 2
}
