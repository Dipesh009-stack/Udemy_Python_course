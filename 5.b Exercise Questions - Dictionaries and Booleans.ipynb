{
 "cells": [
  {
   "cell_type": "markdown",
   "metadata": {},
   "source": [
    "# <font color='red'> *ABSOLUTE BEGINNER LEVEL* </font> \n",
    "# <font color='red'> DICTIONARIES AND BOOLEANS </font> "
   ]
  },
  {
   "cell_type": "markdown",
   "metadata": {},
   "source": [
    "# <font color='blue'> 1. CREATE A DICTIONARY WITH 3 OF YOUR FAVOURITE FRIENDS AND THEIR RESPECTIVE AGE AND PRINT OUT THE AGE OF SECOND NAME YOU CHOOSE</font> "
   ]
  },
  {
   "cell_type": "code",
   "execution_count": 1,
   "metadata": {},
   "outputs": [
    {
     "data": {
      "text/plain": [
       "24"
      ]
     },
     "execution_count": 1,
     "metadata": {},
     "output_type": "execute_result"
    }
   ],
   "source": [
    "friend_dict = {'Biplov':29,\n",
    "                'Saugen':24,\n",
    "                'Akash':33}\n",
    "friend_dict['Saugen']"
   ]
  },
  {
   "cell_type": "markdown",
   "metadata": {},
   "source": [
    "# <font color='blue'> 2. CREATE A DICTIONARY WITH 3 OF YOUR FAVOURITE FRIENDS AND THEIR RESPECTIVE HOURLY WAGE AND OBTAIN THE AVERAGE OF ALL THEIR SALARIES </font> "
   ]
  },
  {
   "cell_type": "code",
   "execution_count": 45,
   "metadata": {
    "scrolled": true
   },
   "outputs": [
    {
     "name": "stdout",
     "output_type": "stream",
     "text": [
      "The original dictionary is: {'Biplov': 2900, 'Saugen': 2400, 'Akash': 3300}\n",
      "The average salary of my friend is 2866.6666666666665\n",
      "The average salary is 2866.6666666666665\n"
     ]
    }
   ],
   "source": [
    "friend_dict = {'Biplov':2900,\n",
    "                'Saugen':2400,\n",
    "                'Akash':3300}\n",
    "print(\"The original dictionary is: \"+str(friend_dict))\n",
    "sum = 0\n",
    "for val in friend_dict.values():\n",
    "    sum +=val\n",
    "avg=sum/len(friend_dict)\n",
    "print(\"The average salary of my friend is {}\".format(avg))\n",
    "\n",
    "avg22 = (friend_dict[\"Biplov\"]+friend_dict[\"Saugen\"]+friend_dict[\"Akash\"])/3\n",
    "print(\"The average salary is {}\".format(avg22))"
   ]
  },
  {
   "cell_type": "markdown",
   "metadata": {},
   "source": [
    "# <font color='blue'> 3. UPDATE THE PREVIOUS DICTIONARY WITH TWO OF YOUR NEXT FAVOURITE FRIENDS AND THEIR RESPECTIVE SALARIES AND OBTAIN THE AVERAGE OF ALL THEIR SALARIES </font> "
   ]
  },
  {
   "cell_type": "code",
   "execution_count": 46,
   "metadata": {},
   "outputs": [],
   "source": [
    "friend_dict[\"Laxman\"]=4500"
   ]
  },
  {
   "cell_type": "code",
   "execution_count": 47,
   "metadata": {},
   "outputs": [
    {
     "name": "stdout",
     "output_type": "stream",
     "text": [
      "The new dictionary is:{'Biplov': 2900, 'Saugen': 2400, 'Akash': 3300, 'Laxman': 4500}\n"
     ]
    }
   ],
   "source": [
    "print(\"The new dictionary is:{}\".format(friend_dict) )"
   ]
  },
  {
   "cell_type": "code",
   "execution_count": 48,
   "metadata": {},
   "outputs": [
    {
     "name": "stdout",
     "output_type": "stream",
     "text": [
      "The new average salary including my new friend is: 3275.0 \n"
     ]
    }
   ],
   "source": [
    "sum1=0\n",
    "for val in friend_dict.values():\n",
    "    sum1+=val\n",
    "avg1=sum1/len(friend_dict)\n",
    "print(\"The new average salary including my new friend is: {} \".format(avg1))\n"
   ]
  },
  {
   "cell_type": "markdown",
   "metadata": {},
   "source": [
    "# <font color='blue'> 4. WRITE A CODE THAT MULTIPLIES ALL THE ELEMENTS IN THE FOLLOWING DICTIONARY"
   ]
  },
  {
   "cell_type": "code",
   "execution_count": 34,
   "metadata": {},
   "outputs": [
    {
     "name": "stdout",
     "output_type": "stream",
     "text": [
      "The multiplication is: 62500000000\n"
     ]
    }
   ],
   "source": [
    "my_dict = {'data1':500,\n",
    "           'data2':-10,\n",
    "           'data3':300,\n",
    "           'data4':500}\n",
    "mul = 1\n",
    "for values in my_dict.values():\n",
    "    mul = mul*val\n",
    "print(\"The multiplication is: {}\".format(mul))\n"
   ]
  },
  {
   "cell_type": "markdown",
   "metadata": {},
   "source": [
    "# <font color='blue'> 5. FOR EACH OF THE STUDENTS LIST BELOW, CALCULATE THE AVERAGE MARK FOR THE MIDTERM AND FINAL EXAMS FOR EACH STUDENT AND PUT THE AVERAGE IN A SEPARATE DICTIONARY ALONG WITH WITH THE STUDENT ID "
   ]
  },
  {
   "cell_type": "code",
   "execution_count": 11,
   "metadata": {},
   "outputs": [
    {
     "name": "stdout",
     "output_type": "stream",
     "text": [
      "[{'Average': 72.5, 'student_id': 1},\n",
      " {'Average': 79.0, 'student_id': 2},\n",
      " {'Average': 79.0, 'student_id': 3}]\n"
     ]
    }
   ],
   "source": [
    "student_details = [\n",
    "  {'student_id' : 1, 'subject' : 'math', 'midterm' : 60, 'final' : 85},\n",
    "  {'student_id' : 2, 'subject' : 'math', 'midterm' : 80, 'final' : 78},\n",
    "  {'student_id' : 3, 'subject' : 'math', 'midterm' : 90, 'final' : 85}\n",
    "]\n",
    "\n",
    "avg1 = (student_details[0]['midterm']+ student_details[0]['final'])/2\n",
    "avg2 = (student_details[1]['midterm']+ student_details[1]['final'])/2\n",
    "avg3 = (student_details[2]['midterm']+ student_details[2]['final'])/2\n",
    "new_dict = [\n",
    "            {'student_id':1,'Average':avg1},\n",
    "            {'student_id':2,'Average':avg2},\n",
    "            {'student_id':3,'Average':avg2}\n",
    "           ]\n",
    "from pprint import pprint\n",
    "pprint(new_dict)\n",
    " \n",
    "    "
   ]
  },
  {
   "cell_type": "markdown",
   "metadata": {},
   "source": [
    "# <font color='blue'> 6. REPEAT THE PREVIOUS EXERCISE BUT ADD THE AVERAGE IN A NEW DICTINARY LINE WITH \"AVERAGE\" AS A KEY"
   ]
  },
  {
   "cell_type": "code",
   "execution_count": 33,
   "metadata": {},
   "outputs": [
    {
     "name": "stdout",
     "output_type": "stream",
     "text": [
      "[{'average': 72.5,\n",
      "  'final': 85,\n",
      "  'midterm': 60,\n",
      "  'student_id': 1,\n",
      "  'subject': 'math'},\n",
      " {'average': 79.0,\n",
      "  'final': 78,\n",
      "  'midterm': 80,\n",
      "  'student_id': 2,\n",
      "  'subject': 'math'},\n",
      " {'average': 87.5,\n",
      "  'final': 85,\n",
      "  'midterm': 90,\n",
      "  'student_id': 3,\n",
      "  'subject': 'math'}]\n"
     ]
    }
   ],
   "source": [
    "student_details = [\n",
    "  {'student_id' : 1, 'subject' : 'math', 'midterm' : 60, 'final' : 85},\n",
    "  {'student_id' : 2, 'subject' : 'math', 'midterm' : 80, 'final' : 78},\n",
    "  {'student_id' : 3, 'subject' : 'math', 'midterm' : 90, 'final' : 85}\n",
    "]\n",
    "\n",
    "student_details[0]['average'] = (student_details[0]['midterm']+ student_details[0]['final'])/2\n",
    "student_details[1]['average'] = (student_details[1]['midterm']+ student_details[1]['final'])/2\n",
    "student_details[2]['average'] = (student_details[2]['midterm']+ student_details[2]['final'])/2\n",
    "\n",
    "from pprint import pprint\n",
    "pprint(student_details)\n"
   ]
  },
  {
   "cell_type": "markdown",
   "metadata": {},
   "source": [
    "# <font color='blue'> 7. SQUARE EACH ELEMENT IN THE FOLLOWING DICTIONARY"
   ]
  },
  {
   "cell_type": "code",
   "execution_count": 41,
   "metadata": {},
   "outputs": [],
   "source": [
    "dictionary = {'C1' : [10,20,30],\n",
    "              'C2' : [20,30,40]}\n",
    "\n"
   ]
  },
  {
   "cell_type": "code",
   "execution_count": 42,
   "metadata": {},
   "outputs": [
    {
     "name": "stdout",
     "output_type": "stream",
     "text": [
      "{'C1': [100, 400, 900], 'C2': [400, 900, 1600]}\n"
     ]
    }
   ],
   "source": [
    "dictionary['C1'] = [dictionary['C1'][0]**2, dictionary['C1'][1]**2, dictionary['C1'][2]**2 ]\n",
    "dictionary['C2'] = [dictionary['C2'][0]**2, dictionary['C2'][1]**2, dictionary['C2'][2]**2 ]\n",
    "print(dictionary)"
   ]
  },
  {
   "cell_type": "markdown",
   "metadata": {},
   "source": [
    "# <font color='blue'>  8. CREATE A LIST OF ALL KEYS AND A LIST OF ALL VALUES AND THE TOTAL SUM OF ALL VALUES "
   ]
  },
  {
   "cell_type": "code",
   "execution_count": 57,
   "metadata": {},
   "outputs": [],
   "source": [
    "my_salary = {\"alex\": 25, \"sally\": 28, \"dina\": 30}\n"
   ]
  },
  {
   "cell_type": "code",
   "execution_count": 72,
   "metadata": {},
   "outputs": [],
   "source": [
    "my_salaries = list(my_salary.values())\n",
    "my_names = list(my_salary.keys())"
   ]
  },
  {
   "cell_type": "code",
   "execution_count": 73,
   "metadata": {},
   "outputs": [
    {
     "name": "stdout",
     "output_type": "stream",
     "text": [
      "[25, 28, 30]\n",
      "['alex', 'sally', 'dina']\n"
     ]
    }
   ],
   "source": [
    "print(my_salaries)\n",
    "print(my_names)"
   ]
  },
  {
   "cell_type": "code",
   "execution_count": 71,
   "metadata": {},
   "outputs": [
    {
     "name": "stdout",
     "output_type": "stream",
     "text": [
      "The total sum is 83\n"
     ]
    }
   ],
   "source": [
    "sum = 0\n",
    "for val in my_salary.values():\n",
    "    sum +=val\n",
    "print(\"The total sum is {}\".format(sum))"
   ]
  },
  {
   "cell_type": "code",
   "execution_count": null,
   "metadata": {},
   "outputs": [],
   "source": []
  },
  {
   "cell_type": "code",
   "execution_count": null,
   "metadata": {},
   "outputs": [],
   "source": []
  },
  {
   "cell_type": "markdown",
   "metadata": {},
   "source": [
    "# <font color='blue'>  9. OBTAIN THE LENGTH OF THE FOLLOWING DICTIONARY AND SORT ITS ELEMENTS"
   ]
  },
  {
   "cell_type": "code",
   "execution_count": 83,
   "metadata": {},
   "outputs": [
    {
     "name": "stdout",
     "output_type": "stream",
     "text": [
      "the length of dictionary is: 5 \n",
      "[50, 44, 23, 22, 10]\n"
     ]
    }
   ],
   "source": [
    "my_dict = {\"sally\": 23, \"dina\": 22, \"holy\": 50, \"Joe\": 10, \"Peter\": 44}\n",
    "length = len(my_dict.values())\n",
    "print(\"the length of dictionary is: {} \".format(length))\n",
    "print(sorted(my_dict.values(), reverse = True))"
   ]
  },
  {
   "cell_type": "markdown",
   "metadata": {},
   "source": [
    "# <font color='blue'> 10. FILTER OUT VALUES THAT ARE GREATER THAN OR EQUAL TO 30 (ADVANCED)(TO BE COVERED) </font> "
   ]
  },
  {
   "cell_type": "code",
   "execution_count": 92,
   "metadata": {},
   "outputs": [
    {
     "ename": "SyntaxError",
     "evalue": "invalid syntax (3530396336.py, line 2)",
     "output_type": "error",
     "traceback": [
      "\u001b[1;36m  Input \u001b[1;32mIn [92]\u001b[1;36m\u001b[0m\n\u001b[1;33m    for key,values in my_dictionary.items() if value >=30\u001b[0m\n\u001b[1;37m                                                         ^\u001b[0m\n\u001b[1;31mSyntaxError\u001b[0m\u001b[1;31m:\u001b[0m invalid syntax\n"
     ]
    }
   ],
   "source": [
    "my_dictionary = {\"Key 1\": 20, \"Key 2\": 30, \"Key 3\": 50}\n",
    "for key,values in my_dictionary.items() if value >=30:\n",
    "    \n",
    "print(key,values)\n"
   ]
  },
  {
   "cell_type": "markdown",
   "metadata": {},
   "source": [
    "# <font color='blue'> 11. WHAT WILL THIS CODE GENERATE? </font> "
   ]
  },
  {
   "cell_type": "code",
   "execution_count": 86,
   "metadata": {},
   "outputs": [
    {
     "name": "stdout",
     "output_type": "stream",
     "text": [
      "False\n",
      "True\n",
      "False\n",
      "True\n"
     ]
    }
   ],
   "source": [
    "x = 10\n",
    "y = 20\n",
    "print(x>y)\n",
    "print(x<y)\n",
    "print(x==y)\n",
    "print(x!=y)\n"
   ]
  },
  {
   "cell_type": "markdown",
   "metadata": {},
   "source": [
    "# NOW YOU SHOULD BE FAMILIAR WITH DICTIONARIES, GREAT JOB!"
   ]
  }
 ],
 "metadata": {
  "kernelspec": {
   "display_name": "Python 3 (ipykernel)",
   "language": "python",
   "name": "python3"
  },
  "language_info": {
   "codemirror_mode": {
    "name": "ipython",
    "version": 3
   },
   "file_extension": ".py",
   "mimetype": "text/x-python",
   "name": "python",
   "nbconvert_exporter": "python",
   "pygments_lexer": "ipython3",
   "version": "3.9.12"
  }
 },
 "nbformat": 4,
 "nbformat_minor": 2
}
