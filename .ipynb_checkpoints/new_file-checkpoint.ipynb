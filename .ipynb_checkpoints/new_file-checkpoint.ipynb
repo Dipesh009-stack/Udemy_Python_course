{
 "cells": [
  {
   "cell_type": "code",
   "execution_count": 2,
   "id": "12c73b50",
   "metadata": {},
   "outputs": [
    {
     "name": "stdout",
     "output_type": "stream",
     "text": [
      "enter the radius of circle2\n"
     ]
    }
   ],
   "source": [
    "import math\n",
    "r= int(input(\"enter the radius of circle\"))\n"
   ]
  },
  {
   "cell_type": "code",
   "execution_count": 8,
   "id": "d0e7ec28",
   "metadata": {},
   "outputs": [
    {
     "name": "stdout",
     "output_type": "stream",
     "text": [
      "DIPESH WOSTI\n"
     ]
    }
   ],
   "source": [
    "first_name = \"dipesh\"\n",
    "last_name= \"wosti\"\n",
    "full_name = first_name+\" \"+ last_name\n",
    "print(full_name.upper())"
   ]
  },
  {
   "cell_type": "code",
   "execution_count": 6,
   "id": "91eeda5d",
   "metadata": {},
   "outputs": [
    {
     "data": {
      "text/plain": [
       "'DIPESH WOSTI'"
      ]
     },
     "execution_count": 6,
     "metadata": {},
     "output_type": "execute_result"
    }
   ],
   "source": [
    "full_name.upper()"
   ]
  },
  {
   "cell_type": "code",
   "execution_count": 7,
   "id": "bbd16cb2",
   "metadata": {},
   "outputs": [
    {
     "data": {
      "text/plain": [
       "'dipesh wosti'"
      ]
     },
     "execution_count": 7,
     "metadata": {},
     "output_type": "execute_result"
    }
   ],
   "source": [
    "full_name"
   ]
  },
  {
   "cell_type": "code",
   "execution_count": null,
   "id": "9b1e6f65",
   "metadata": {},
   "outputs": [],
   "source": []
  }
 ],
 "metadata": {
  "kernelspec": {
   "display_name": "Python 3 (ipykernel)",
   "language": "python",
   "name": "python3"
  },
  "language_info": {
   "codemirror_mode": {
    "name": "ipython",
    "version": 3
   },
   "file_extension": ".py",
   "mimetype": "text/x-python",
   "name": "python",
   "nbconvert_exporter": "python",
   "pygments_lexer": "ipython3",
   "version": "3.9.12"
  }
 },
 "nbformat": 4,
 "nbformat_minor": 5
}
